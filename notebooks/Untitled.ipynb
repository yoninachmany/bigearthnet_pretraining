{
 "cells": [
  {
   "cell_type": "code",
   "execution_count": 1,
   "metadata": {},
   "outputs": [],
   "source": [
    "import pandas as pd"
   ]
  },
  {
   "cell_type": "code",
   "execution_count": 2,
   "metadata": {},
   "outputs": [
    {
     "name": "stdout",
     "output_type": "stream",
     "text": [
      "(590326, 7)\n"
     ]
    },
    {
     "data": {
      "text/html": [
       "<div>\n",
       "<style scoped>\n",
       "    .dataframe tbody tr th:only-of-type {\n",
       "        vertical-align: middle;\n",
       "    }\n",
       "\n",
       "    .dataframe tbody tr th {\n",
       "        vertical-align: top;\n",
       "    }\n",
       "\n",
       "    .dataframe thead th {\n",
       "        text-align: right;\n",
       "    }\n",
       "</style>\n",
       "<table border=\"1\" class=\"dataframe\">\n",
       "  <thead>\n",
       "    <tr style=\"text-align: right;\">\n",
       "      <th></th>\n",
       "      <th>name</th>\n",
       "      <th>labels</th>\n",
       "      <th>tile</th>\n",
       "      <th>date</th>\n",
       "      <th>patch_col</th>\n",
       "      <th>patch_row</th>\n",
       "      <th>val</th>\n",
       "    </tr>\n",
       "  </thead>\n",
       "  <tbody>\n",
       "    <tr>\n",
       "      <th>0</th>\n",
       "      <td>S2B_MSIL2A_20180204T094159_69_59</td>\n",
       "      <td>Seasonal snow|Coniferous forest|Water bodies</td>\n",
       "      <td>N0206_R036_T35VNJ</td>\n",
       "      <td>20180204T094159</td>\n",
       "      <td>69</td>\n",
       "      <td>59</td>\n",
       "      <td>0</td>\n",
       "    </tr>\n",
       "    <tr>\n",
       "      <th>1</th>\n",
       "      <td>S2A_MSIL2A_20170701T093031_81_2</td>\n",
       "      <td>Coniferous forest|Transitional woodland/shrub|...</td>\n",
       "      <td>N0205_R136_T35VPK</td>\n",
       "      <td>20170701T093031</td>\n",
       "      <td>81</td>\n",
       "      <td>2</td>\n",
       "      <td>0</td>\n",
       "    </tr>\n",
       "    <tr>\n",
       "      <th>2</th>\n",
       "      <td>S2A_MSIL2A_20180527T093041_29_82</td>\n",
       "      <td>Non-irrigated arable land|Broad-leaved forest|...</td>\n",
       "      <td>N0206_R136_T35VPK</td>\n",
       "      <td>20180527T093041</td>\n",
       "      <td>29</td>\n",
       "      <td>82</td>\n",
       "      <td>0</td>\n",
       "    </tr>\n",
       "    <tr>\n",
       "      <th>3</th>\n",
       "      <td>S2A_MSIL2A_20180413T095031_88_45</td>\n",
       "      <td>Non-irrigated arable land|Land principally occ...</td>\n",
       "      <td>N0206_R079_T34UEG</td>\n",
       "      <td>20180413T095031</td>\n",
       "      <td>88</td>\n",
       "      <td>45</td>\n",
       "      <td>0</td>\n",
       "    </tr>\n",
       "    <tr>\n",
       "      <th>4</th>\n",
       "      <td>S2B_MSIL2A_20170808T094029_22_3</td>\n",
       "      <td>Coniferous forest|Mixed forest</td>\n",
       "      <td>N0205_R036_T35ULA</td>\n",
       "      <td>20170808T094029</td>\n",
       "      <td>22</td>\n",
       "      <td>3</td>\n",
       "      <td>1</td>\n",
       "    </tr>\n",
       "  </tbody>\n",
       "</table>\n",
       "</div>"
      ],
      "text/plain": [
       "                               name  \\\n",
       "0  S2B_MSIL2A_20180204T094159_69_59   \n",
       "1   S2A_MSIL2A_20170701T093031_81_2   \n",
       "2  S2A_MSIL2A_20180527T093041_29_82   \n",
       "3  S2A_MSIL2A_20180413T095031_88_45   \n",
       "4   S2B_MSIL2A_20170808T094029_22_3   \n",
       "\n",
       "                                              labels               tile  \\\n",
       "0       Seasonal snow|Coniferous forest|Water bodies  N0206_R036_T35VNJ   \n",
       "1  Coniferous forest|Transitional woodland/shrub|...  N0205_R136_T35VPK   \n",
       "2  Non-irrigated arable land|Broad-leaved forest|...  N0206_R136_T35VPK   \n",
       "3  Non-irrigated arable land|Land principally occ...  N0206_R079_T34UEG   \n",
       "4                     Coniferous forest|Mixed forest  N0205_R036_T35ULA   \n",
       "\n",
       "              date  patch_col  patch_row  val  \n",
       "0  20180204T094159         69         59    0  \n",
       "1  20170701T093031         81          2    0  \n",
       "2  20180527T093041         29         82    0  \n",
       "3  20180413T095031         88         45    0  \n",
       "4  20170808T094029         22          3    1  "
      ]
     },
     "execution_count": 2,
     "metadata": {},
     "output_type": "execute_result"
    }
   ],
   "source": [
    "df = pd.read_csv('../data/processed/bigearthnet_dataset.csv')\n",
    "print(df.shape)\n",
    "df.head()"
   ]
  },
  {
   "cell_type": "code",
   "execution_count": 3,
   "metadata": {},
   "outputs": [
    {
     "data": {
      "text/plain": [
       "N0205_R136_T35VPK    5\n",
       "N0206_R036_T35VNJ    5\n",
       "N0206_R037_T29SND    4\n",
       "N0206_R036_T35VNK    3\n",
       "N0206_R136_T35VPH    3\n",
       "N0206_R079_T33TXN    3\n",
       "N0206_R036_T35WPP    3\n",
       "N0205_R136_T35UMB    3\n",
       "N0205_R022_T34WFS    3\n",
       "N0205_R037_T29SNB    3\n",
       "N0206_R123_T29UPU    3\n",
       "N0206_R036_T35WPN    3\n",
       "N0206_R051_T31UER    3\n",
       "N0206_R122_T33UWQ    3\n",
       "N0205_R036_T34TCR    3\n",
       "N0206_R122_T33TWN    2\n",
       "N0206_R136_T35VPK    2\n",
       "N0206_R079_T33TWN    2\n",
       "N0205_R036_T35ULB    2\n",
       "N0205_R136_T35UMA    2\n",
       "N0205_R022_T34VER    2\n",
       "N0205_R093_T34TFN    2\n",
       "N0205_R079_T33UXP    2\n",
       "N0205_R065_T34VDR    2\n",
       "N0206_R136_T34TEP    2\n",
       "N0206_R122_T33TWM    2\n",
       "N0205_R136_T34TEQ    2\n",
       "N0206_R037_T29SNC    2\n",
       "N0206_R036_T35VNH    2\n",
       "N0205_R008_T31UGR    2\n",
       "                    ..\n",
       "N0206_R136_T34TEQ    1\n",
       "N0206_R065_T34WFV    1\n",
       "N0205_R079_T35VNL    1\n",
       "N0205_R022_T34VDN    1\n",
       "N0205_R036_T35ULA    1\n",
       "N0206_R022_T34WFT    1\n",
       "N0206_R122_T34VDM    1\n",
       "N0205_R036_T35VNL    1\n",
       "N0205_R036_T35VLC    1\n",
       "N0206_R065_T34VDN    1\n",
       "N0205_R136_T35VPH    1\n",
       "N0205_R080_T29UPU    1\n",
       "N0206_R023_T29UNB    1\n",
       "N0206_R122_T33UXQ    1\n",
       "N0205_R122_T35WPR    1\n",
       "N0206_R036_T35VLC    1\n",
       "N0205_R136_T35VNH    1\n",
       "N0205_R051_T31UER    1\n",
       "N0206_R136_T34TEN    1\n",
       "N0206_R079_T34UEG    1\n",
       "N0206_R036_T35VNL    1\n",
       "N0206_R122_T34WFS    1\n",
       "N0205_R080_T29UPA    1\n",
       "N0205_R023_T29UPB    1\n",
       "N0205_R079_T33TXN    1\n",
       "N0206_R022_T34VDR    1\n",
       "N0206_R022_T34WFS    1\n",
       "N0206_R093_T34TFN    1\n",
       "N0206_R122_T35WPR    1\n",
       "N0205_R022_T34VDM    1\n",
       "Name: tile, Length: 95, dtype: int64"
      ]
     },
     "execution_count": 3,
     "metadata": {},
     "output_type": "execute_result"
    }
   ],
   "source": [
    "df.groupby(['tile', 'date']).count().reset_index().tile.value_counts()"
   ]
  },
  {
   "cell_type": "code",
   "execution_count": 12,
   "metadata": {},
   "outputs": [
    {
     "data": {
      "text/plain": [
       "array([ 0,  1,  2,  3,  4,  5,  6,  7,  8,  9, 10, 11, 12, 13, 14, 15, 16,\n",
       "       17, 18, 19, 20, 21, 22, 23, 24, 25, 26, 27, 28, 29, 30, 31, 32, 33,\n",
       "       34, 35, 36, 37, 38, 39, 40, 41, 42, 43, 44, 45, 46, 47, 48, 49, 50,\n",
       "       51, 52, 53, 54, 55, 56, 57, 58, 59, 60, 61, 62, 63, 64, 65, 66, 67,\n",
       "       68, 69, 70, 71, 72, 73, 74, 75, 76, 77, 78, 79, 80, 81, 82, 83, 84,\n",
       "       85, 86, 87, 88, 89, 90])"
      ]
     },
     "execution_count": 12,
     "metadata": {},
     "output_type": "execute_result"
    }
   ],
   "source": [
    "df['patch_col'].sort_values().unique()"
   ]
  },
  {
   "cell_type": "code",
   "execution_count": 13,
   "metadata": {},
   "outputs": [
    {
     "data": {
      "text/plain": [
       "array([ 0,  1,  2,  3,  4,  5,  6,  7,  8,  9, 10, 11, 12, 13, 14, 15, 16,\n",
       "       17, 18, 19, 20, 21, 22, 23, 24, 25, 26, 27, 28, 29, 30, 31, 32, 33,\n",
       "       34, 35, 36, 37, 38, 39, 40, 41, 42, 43, 44, 45, 46, 47, 48, 49, 50,\n",
       "       51, 52, 53, 54, 55, 56, 57, 58, 59, 60, 61, 62, 63, 64, 65, 66, 67,\n",
       "       68, 69, 70, 71, 72, 73, 74, 75, 76, 77, 78, 79, 80, 81, 82, 83, 84,\n",
       "       85, 86, 87, 88, 89, 90])"
      ]
     },
     "execution_count": 13,
     "metadata": {},
     "output_type": "execute_result"
    }
   ],
   "source": [
    "df['patch_row'].sort_values().unique()"
   ]
  },
  {
   "cell_type": "code",
   "execution_count": 4,
   "metadata": {},
   "outputs": [
    {
     "data": {
      "text/plain": [
       " 0    0.788469\n",
       " 1    0.195810\n",
       "-1    0.015720\n",
       "Name: val, dtype: float64"
      ]
     },
     "execution_count": 4,
     "metadata": {},
     "output_type": "execute_result"
    }
   ],
   "source": [
    "df.val.value_counts(normalize=True)"
   ]
  },
  {
   "cell_type": "code",
   "execution_count": 5,
   "metadata": {},
   "outputs": [],
   "source": [
    "snow_df = pd.read_csv('../data/raw/patches_with_seasonal_snow.csv', header=None)"
   ]
  },
  {
   "cell_type": "code",
   "execution_count": 6,
   "metadata": {},
   "outputs": [
    {
     "data": {
      "text/plain": [
       "0.10453037813005017"
      ]
     },
     "execution_count": 6,
     "metadata": {},
     "output_type": "execute_result"
    }
   ],
   "source": [
    "len(snow_df)/len(df)"
   ]
  }
 ],
 "metadata": {
  "kernelspec": {
   "display_name": "Environment (conda_anaconda3)",
   "language": "python",
   "name": "conda_anaconda3"
  },
  "language_info": {
   "codemirror_mode": {
    "name": "ipython",
    "version": 3
   },
   "file_extension": ".py",
   "mimetype": "text/x-python",
   "name": "python",
   "nbconvert_exporter": "python",
   "pygments_lexer": "ipython3",
   "version": "3.6.6"
  }
 },
 "nbformat": 4,
 "nbformat_minor": 2
}
